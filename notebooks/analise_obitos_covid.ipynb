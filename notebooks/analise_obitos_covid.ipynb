{
 "metadata": {
  "language_info": {
   "codemirror_mode": {
    "name": "ipython",
    "version": 3
   },
   "file_extension": ".py",
   "mimetype": "text/x-python",
   "name": "python",
   "nbconvert_exporter": "python",
   "pygments_lexer": "ipython3",
   "version": "3.9.1-final"
  },
  "orig_nbformat": 2,
  "kernelspec": {
   "name": "python3",
   "display_name": "Python 3.9.1 64-bit ('venv_streamlit')",
   "metadata": {
    "interpreter": {
     "hash": "109b8279126c7511d61a2b20bb038cccbc19df1d8f1e9493ebdb50c5897c2d1c"
    }
   }
  }
 },
 "nbformat": 4,
 "nbformat_minor": 2,
 "cells": [
  {
   "cell_type": "code",
   "execution_count": 23,
   "metadata": {},
   "outputs": [
    {
     "output_type": "stream",
     "name": "stdout",
     "text": [
      "2019 (12379, 6)\n2020 (14859, 6)\n"
     ]
    }
   ],
   "source": [
    "import pandas as pd\n",
    "\n",
    "caminho_2019 = '../dados/obitos-2019.csv'\n",
    "caminho_2020 = '../dados/obitos-2020.csv'\n",
    "\n",
    "dados_2019 = pd.read_csv(caminho_2019)\n",
    "dados_2020 = pd.read_csv(caminho_2020)\n",
    "\n",
    "print(f'2019 {dados_2019.shape}')\n",
    "print(f'2020 {dados_2020.shape}')"
   ]
  },
  {
   "cell_type": "code",
   "execution_count": 8,
   "metadata": {},
   "outputs": [
    {
     "output_type": "execute_result",
     "data": {
      "text/plain": [
       "   uf tipo_doenca local_obito faixa_etaria sexo  total\n",
       "0  AC      OUTRAS   DOMICILIO          < 9    F      7\n",
       "1  AC      OUTRAS   DOMICILIO          < 9    M     15\n",
       "2  AC      OUTRAS    HOSPITAL          < 9    F     30\n",
       "3  AC      OUTRAS    HOSPITAL          < 9    M     55\n",
       "4  AC      OUTRAS    IGNORADO          < 9    M      1"
      ],
      "text/html": "<div>\n<style scoped>\n    .dataframe tbody tr th:only-of-type {\n        vertical-align: middle;\n    }\n\n    .dataframe tbody tr th {\n        vertical-align: top;\n    }\n\n    .dataframe thead th {\n        text-align: right;\n    }\n</style>\n<table border=\"1\" class=\"dataframe\">\n  <thead>\n    <tr style=\"text-align: right;\">\n      <th></th>\n      <th>uf</th>\n      <th>tipo_doenca</th>\n      <th>local_obito</th>\n      <th>faixa_etaria</th>\n      <th>sexo</th>\n      <th>total</th>\n    </tr>\n  </thead>\n  <tbody>\n    <tr>\n      <th>0</th>\n      <td>AC</td>\n      <td>OUTRAS</td>\n      <td>DOMICILIO</td>\n      <td>&lt; 9</td>\n      <td>F</td>\n      <td>7</td>\n    </tr>\n    <tr>\n      <th>1</th>\n      <td>AC</td>\n      <td>OUTRAS</td>\n      <td>DOMICILIO</td>\n      <td>&lt; 9</td>\n      <td>M</td>\n      <td>15</td>\n    </tr>\n    <tr>\n      <th>2</th>\n      <td>AC</td>\n      <td>OUTRAS</td>\n      <td>HOSPITAL</td>\n      <td>&lt; 9</td>\n      <td>F</td>\n      <td>30</td>\n    </tr>\n    <tr>\n      <th>3</th>\n      <td>AC</td>\n      <td>OUTRAS</td>\n      <td>HOSPITAL</td>\n      <td>&lt; 9</td>\n      <td>M</td>\n      <td>55</td>\n    </tr>\n    <tr>\n      <th>4</th>\n      <td>AC</td>\n      <td>OUTRAS</td>\n      <td>IGNORADO</td>\n      <td>&lt; 9</td>\n      <td>M</td>\n      <td>1</td>\n    </tr>\n  </tbody>\n</table>\n</div>"
     },
     "metadata": {},
     "execution_count": 8
    }
   ],
   "source": [
    "dados_2019.head()"
   ]
  },
  {
   "cell_type": "code",
   "execution_count": 13,
   "metadata": {},
   "outputs": [
    {
     "output_type": "execute_result",
     "data": {
      "text/plain": [
       "       uf tipo_doenca local_obito faixa_etaria sexo  total\n",
       "8935   MA      OUTRAS    IGNORADO      70 - 79    F      9\n",
       "8747   CE        SRAG    IGNORADO      70 - 79    F      6\n",
       "6464   RR        SRAG    HOSPITAL      50 - 59    M      4\n",
       "14209  DF      OUTRAS    HOSPITAL          N/I    I      8\n",
       "5486   BA  SEPTICEMIA   DOMICILIO      50 - 59    F     13"
      ],
      "text/html": "<div>\n<style scoped>\n    .dataframe tbody tr th:only-of-type {\n        vertical-align: middle;\n    }\n\n    .dataframe tbody tr th {\n        vertical-align: top;\n    }\n\n    .dataframe thead th {\n        text-align: right;\n    }\n</style>\n<table border=\"1\" class=\"dataframe\">\n  <thead>\n    <tr style=\"text-align: right;\">\n      <th></th>\n      <th>uf</th>\n      <th>tipo_doenca</th>\n      <th>local_obito</th>\n      <th>faixa_etaria</th>\n      <th>sexo</th>\n      <th>total</th>\n    </tr>\n  </thead>\n  <tbody>\n    <tr>\n      <th>8935</th>\n      <td>MA</td>\n      <td>OUTRAS</td>\n      <td>IGNORADO</td>\n      <td>70 - 79</td>\n      <td>F</td>\n      <td>9</td>\n    </tr>\n    <tr>\n      <th>8747</th>\n      <td>CE</td>\n      <td>SRAG</td>\n      <td>IGNORADO</td>\n      <td>70 - 79</td>\n      <td>F</td>\n      <td>6</td>\n    </tr>\n    <tr>\n      <th>6464</th>\n      <td>RR</td>\n      <td>SRAG</td>\n      <td>HOSPITAL</td>\n      <td>50 - 59</td>\n      <td>M</td>\n      <td>4</td>\n    </tr>\n    <tr>\n      <th>14209</th>\n      <td>DF</td>\n      <td>OUTRAS</td>\n      <td>HOSPITAL</td>\n      <td>N/I</td>\n      <td>I</td>\n      <td>8</td>\n    </tr>\n    <tr>\n      <th>5486</th>\n      <td>BA</td>\n      <td>SEPTICEMIA</td>\n      <td>DOMICILIO</td>\n      <td>50 - 59</td>\n      <td>F</td>\n      <td>13</td>\n    </tr>\n  </tbody>\n</table>\n</div>"
     },
     "metadata": {},
     "execution_count": 13
    }
   ],
   "source": [
    "dados_2020.sample(5)"
   ]
  },
  {
   "cell_type": "code",
   "execution_count": 16,
   "metadata": {},
   "outputs": [
    {
     "output_type": "execute_result",
     "data": {
      "text/plain": [
       "27"
      ]
     },
     "metadata": {},
     "execution_count": 16
    }
   ],
   "source": [
    "len(dados_2019['uf'].unique())"
   ]
  },
  {
   "cell_type": "code",
   "execution_count": 17,
   "metadata": {},
   "outputs": [
    {
     "output_type": "execute_result",
     "data": {
      "text/plain": [
       "27"
      ]
     },
     "metadata": {},
     "execution_count": 17
    }
   ],
   "source": [
    "len(dados_2020['uf'].unique())"
   ]
  },
  {
   "cell_type": "code",
   "execution_count": 41,
   "metadata": {},
   "outputs": [
    {
     "output_type": "execute_result",
     "data": {
      "text/plain": [
       "                             total\n",
       "tipo_doenca                       \n",
       "OUTRAS                      659903\n",
       "PNEUMONIA                   226198\n",
       "SEPTICEMIA                  175438\n",
       "INSUFICIENCIA_RESPIRATORIA  100504\n",
       "INDETERMINADA                 6984\n",
       "SRAG                          1498\n",
       "COVID                            1"
      ],
      "text/html": "<div>\n<style scoped>\n    .dataframe tbody tr th:only-of-type {\n        vertical-align: middle;\n    }\n\n    .dataframe tbody tr th {\n        vertical-align: top;\n    }\n\n    .dataframe thead th {\n        text-align: right;\n    }\n</style>\n<table border=\"1\" class=\"dataframe\">\n  <thead>\n    <tr style=\"text-align: right;\">\n      <th></th>\n      <th>total</th>\n    </tr>\n    <tr>\n      <th>tipo_doenca</th>\n      <th></th>\n    </tr>\n  </thead>\n  <tbody>\n    <tr>\n      <th>OUTRAS</th>\n      <td>659903</td>\n    </tr>\n    <tr>\n      <th>PNEUMONIA</th>\n      <td>226198</td>\n    </tr>\n    <tr>\n      <th>SEPTICEMIA</th>\n      <td>175438</td>\n    </tr>\n    <tr>\n      <th>INSUFICIENCIA_RESPIRATORIA</th>\n      <td>100504</td>\n    </tr>\n    <tr>\n      <th>INDETERMINADA</th>\n      <td>6984</td>\n    </tr>\n    <tr>\n      <th>SRAG</th>\n      <td>1498</td>\n    </tr>\n    <tr>\n      <th>COVID</th>\n      <td>1</td>\n    </tr>\n  </tbody>\n</table>\n</div>"
     },
     "metadata": {},
     "execution_count": 41
    }
   ],
   "source": [
    "total_obitos_2019 = dados_2019.groupby('tipo_doenca').sum()\n",
    "total_obitos_2019.sort_values('total', ascending=False)"
   ]
  },
  {
   "cell_type": "code",
   "execution_count": 40,
   "metadata": {},
   "outputs": [
    {
     "output_type": "execute_result",
     "data": {
      "text/plain": [
       "                             total\n",
       "tipo_doenca                       \n",
       "OUTRAS                      682577\n",
       "COVID                       193208\n",
       "PNEUMONIA                   180424\n",
       "SEPTICEMIA                  161360\n",
       "INSUFICIENCIA_RESPIRATORIA   97949\n",
       "SRAG                         16402\n",
       "INDETERMINADA                 9582"
      ],
      "text/html": "<div>\n<style scoped>\n    .dataframe tbody tr th:only-of-type {\n        vertical-align: middle;\n    }\n\n    .dataframe tbody tr th {\n        vertical-align: top;\n    }\n\n    .dataframe thead th {\n        text-align: right;\n    }\n</style>\n<table border=\"1\" class=\"dataframe\">\n  <thead>\n    <tr style=\"text-align: right;\">\n      <th></th>\n      <th>total</th>\n    </tr>\n    <tr>\n      <th>tipo_doenca</th>\n      <th></th>\n    </tr>\n  </thead>\n  <tbody>\n    <tr>\n      <th>OUTRAS</th>\n      <td>682577</td>\n    </tr>\n    <tr>\n      <th>COVID</th>\n      <td>193208</td>\n    </tr>\n    <tr>\n      <th>PNEUMONIA</th>\n      <td>180424</td>\n    </tr>\n    <tr>\n      <th>SEPTICEMIA</th>\n      <td>161360</td>\n    </tr>\n    <tr>\n      <th>INSUFICIENCIA_RESPIRATORIA</th>\n      <td>97949</td>\n    </tr>\n    <tr>\n      <th>SRAG</th>\n      <td>16402</td>\n    </tr>\n    <tr>\n      <th>INDETERMINADA</th>\n      <td>9582</td>\n    </tr>\n  </tbody>\n</table>\n</div>"
     },
     "metadata": {},
     "execution_count": 40
    }
   ],
   "source": [
    "total_obitos_2020 = dados_2020.groupby('tipo_doenca').sum()\n",
    "total_obitos_2020.sort_values('total', ascending=False)"
   ]
  },
  {
   "cell_type": "code",
   "execution_count": 42,
   "metadata": {},
   "outputs": [
    {
     "output_type": "execute_result",
     "data": {
      "text/plain": [
       "                                    total\n",
       "tipo_doenca                              \n",
       "COVID                       193208.000000\n",
       "INDETERMINADA                    1.371993\n",
       "INSUFICIENCIA_RESPIRATORIA       0.974578\n",
       "OUTRAS                           1.034360\n",
       "PNEUMONIA                        0.797637\n",
       "SEPTICEMIA                       0.919755\n",
       "SRAG                            10.949266"
      ],
      "text/html": "<div>\n<style scoped>\n    .dataframe tbody tr th:only-of-type {\n        vertical-align: middle;\n    }\n\n    .dataframe tbody tr th {\n        vertical-align: top;\n    }\n\n    .dataframe thead th {\n        text-align: right;\n    }\n</style>\n<table border=\"1\" class=\"dataframe\">\n  <thead>\n    <tr style=\"text-align: right;\">\n      <th></th>\n      <th>total</th>\n    </tr>\n    <tr>\n      <th>tipo_doenca</th>\n      <th></th>\n    </tr>\n  </thead>\n  <tbody>\n    <tr>\n      <th>COVID</th>\n      <td>193208.000000</td>\n    </tr>\n    <tr>\n      <th>INDETERMINADA</th>\n      <td>1.371993</td>\n    </tr>\n    <tr>\n      <th>INSUFICIENCIA_RESPIRATORIA</th>\n      <td>0.974578</td>\n    </tr>\n    <tr>\n      <th>OUTRAS</th>\n      <td>1.034360</td>\n    </tr>\n    <tr>\n      <th>PNEUMONIA</th>\n      <td>0.797637</td>\n    </tr>\n    <tr>\n      <th>SEPTICEMIA</th>\n      <td>0.919755</td>\n    </tr>\n    <tr>\n      <th>SRAG</th>\n      <td>10.949266</td>\n    </tr>\n  </tbody>\n</table>\n</div>"
     },
     "metadata": {},
     "execution_count": 42
    }
   ],
   "source": [
    "proporcao = total_obitos_2020 / total_obitos_2019\n",
    "proporcao"
   ]
  },
  {
   "source": [
    "Note o aumento da proporção em casos de SRAG (Sindrome Respiratória Aguda Grave), isso é um indício de subnotificação dos casos de covid."
   ],
   "cell_type": "markdown",
   "metadata": {}
  },
  {
   "source": [
    "## Desafio 1: Acessar o portal e verificar como são classificados os dados."
   ],
   "cell_type": "markdown",
   "metadata": {}
  }
 ]
}